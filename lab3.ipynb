{
  "nbformat": 4,
  "nbformat_minor": 0,
  "metadata": {
    "colab": {
      "name": "lab3.ipynb",
      "provenance": [],
      "collapsed_sections": []
    },
    "kernelspec": {
      "name": "python3",
      "display_name": "Python 3"
    },
    "language_info": {
      "name": "python"
    },
    "gpuClass": "standard"
  },
  "cells": [
    {
      "cell_type": "code",
      "execution_count": 1,
      "metadata": {
        "id": "0u741jo1xFnw"
      },
      "outputs": [],
      "source": [
        "import tensorflow as tf"
      ]
    },
    {
      "cell_type": "code",
      "source": [
        "import cv2\n",
        "import numpy as np\n",
        "from sklearn.neighbors import KNeighborsClassifier\n",
        "from sklearn.linear_model import SGDClassifier\n",
        "from sklearn.tree import DecisionTreeClassifier\n",
        "from sklearn.metrics import classification_report\n",
        "from sklearn import metrics\n",
        "import matplotlib.pyplot as plt\n",
        "from sklearn.model_selection import train_test_split"
      ],
      "metadata": {
        "id": "akYqPhC1p4RB"
      },
      "execution_count": 2,
      "outputs": []
    },
    {
      "cell_type": "code",
      "source": [
        "fashion_mnist = tf.keras.datasets.fashion_mnist\n",
        "(x_train, y_train), (x_test, y_test) = fashion_mnist.load_data()\n",
        "\n",
        "print(x_train.shape)\n",
        "print(y_train.shape)\n",
        "print(x_test.shape)\n",
        "print(y_test.shape)\n",
        "\n",
        "plt.figure(figsize=(15, 12))\n",
        "for index, (image, label) in enumerate(zip(x_train[0:6], y_train[0:6])):\n",
        "    plt.subplot(2, 3, index + 1)\n",
        "    plt.imshow(image, cmap='gray')\n",
        "    plt.title('Label: %i\\n' % label, fontsize=20)"
      ],
      "metadata": {
        "colab": {
          "base_uri": "https://localhost:8080/",
          "height": 764
        },
        "id": "gvBL7i0up8dv",
        "outputId": "ee1963e9-516b-42be-cbf0-c4d757ed315e"
      },
      "execution_count": 24,
      "outputs": [
        {
          "output_type": "stream",
          "name": "stdout",
          "text": [
            "(60000, 28, 28)\n",
            "(60000,)\n",
            "(10000, 28, 28)\n",
            "(10000,)\n"
          ]
        },
        {
          "output_type": "display_data",
          "data": {
            "text/plain": [
              "<Figure size 1080x864 with 6 Axes>"
            ],
            "image/png": "[encoded data removed]"
          },
          "metadata": {
            "needs_background": "light"
          }
        }
      ]
    },
    {
      "cell_type": "code",
      "source": [
        "x_train_small, x_test_1, y_train_small, y_test_1 = train_test_split(x_train, y_train, train_size=3000, random_state=0)\n",
        "print(x_train_small.shape)\n",
        "print(y_train_small.shape)\n",
        "\n",
        "x_train_1, x_test_small, y_train_1, y_test_small = train_test_split(x_test, y_test, test_size=1000, random_state=0)\n",
        "print(x_test_small.shape)\n",
        "print(y_test_small.shape)\n",
        "\n",
        "x_train_small = x_train_small.reshape(3000,-1)\n",
        "print(x_train_small.shape)\n",
        "\n",
        "x_test_small = x_test_small.reshape(1000,-1)\n",
        "print(x_test_small.shape)\n"
      ],
      "metadata": {
        "colab": {
          "base_uri": "https://localhost:8080/"
        },
        "id": "BTpWPstcPGKu",
        "outputId": "33973d8b-16fd-4203-f3d8-6ede27e89b72"
      },
      "execution_count": 25,
      "outputs": [
        {
          "output_type": "stream",
          "name": "stdout",
          "text": [
            "(3000, 28, 28)\n",
            "(3000,)\n",
            "(1000, 28, 28)\n",
            "(1000,)\n",
            "(3000, 784)\n",
            "(1000, 784)\n"
          ]
        }
      ]
    },
    {
      "cell_type": "code",
      "source": [
        "model = KNeighborsClassifier(n_neighbors=3)\n",
        "model.fit(x_train_small, y_train_small)\n",
        "knn_result = model.predict(x_test_small)"
      ],
      "metadata": {
        "id": "pMrjkupOP55T"
      },
      "execution_count": 26,
      "outputs": []
    },
    {
      "cell_type": "code",
      "source": [
        "print('KNN Result:\\n')\n",
        "print(classification_report(y_test_small, knn_result))\n",
        "print(metrics.confusion_matrix(y_test_small, knn_result))"
      ],
      "metadata": {
        "colab": {
          "base_uri": "https://localhost:8080/"
        },
        "id": "oitwAmCiP-hi",
        "outputId": "99dc882a-cf32-4ab5-a366-b75946cddd23"
      },
      "execution_count": 27,
      "outputs": [
        {
          "output_type": "stream",
          "name": "stdout",
          "text": [
            "KNN Result:\n",
            "\n",
            "              precision    recall  f1-score   support\n",
            "\n",
            "           0       0.63      0.78      0.70        91\n",
            "           1       0.91      0.96      0.93        91\n",
            "           2       0.57      0.78      0.66        91\n",
            "           3       0.92      0.82      0.87       112\n",
            "           4       0.75      0.60      0.66        99\n",
            "           5       0.96      0.61      0.74       107\n",
            "           6       0.49      0.43      0.46        99\n",
            "           7       0.77      0.89      0.83       102\n",
            "           8       0.96      0.82      0.89        95\n",
            "           9       0.82      0.96      0.89       113\n",
            "\n",
            "    accuracy                           0.77      1000\n",
            "   macro avg       0.78      0.77      0.76      1000\n",
            "weighted avg       0.78      0.77      0.76      1000\n",
            "\n",
            "[[ 71   3   2   1   1   0  12   0   1   0]\n",
            " [  0  87   1   1   0   0   2   0   0   0]\n",
            " [  2   0  71   0  11   0   6   0   1   0]\n",
            " [  6   3   5  92   3   0   3   0   0   0]\n",
            " [  0   2  19   4  59   0  15   0   0   0]\n",
            " [  2   0   1   1   0  65   3  20   0  15]\n",
            " [ 30   1  18   0   5   0  43   1   1   0]\n",
            " [  0   0   0   0   0   2   0  91   0   9]\n",
            " [  2   0   8   1   0   1   3   2  78   0]\n",
            " [  0   0   0   0   0   0   0   4   0 109]]\n"
          ]
        }
      ]
    },
    {
      "cell_type": "code",
      "source": [
        "model = SGDClassifier(max_iter=250)\n",
        "model.fit(x_train_small, y_train_small)\n",
        "sgd_result = model.predict(x_test_small)"
      ],
      "metadata": {
        "id": "lEqGz8r5QFzK"
      },
      "execution_count": 15,
      "outputs": []
    },
    {
      "cell_type": "code",
      "source": [
        "print('SGD Result\\n')\n",
        "print(classification_report(y_test_small, sgd_result))\n",
        "print(metrics.confusion_matrix(y_test_small, sgd_result))"
      ],
      "metadata": {
        "colab": {
          "base_uri": "https://localhost:8080/"
        },
        "id": "GGzW5L2kQJ71",
        "outputId": "8a615bda-d463-4935-d5cf-d337163f56ea"
      },
      "execution_count": 16,
      "outputs": [
        {
          "output_type": "stream",
          "name": "stdout",
          "text": [
            "SGD Result\n",
            "\n",
            "              precision    recall  f1-score   support\n",
            "\n",
            "           0       0.61      0.92      0.73        91\n",
            "           1       0.98      0.92      0.95        91\n",
            "           2       0.52      0.86      0.65        91\n",
            "           3       0.93      0.79      0.86       112\n",
            "           4       0.76      0.47      0.58        99\n",
            "           5       0.94      0.75      0.83       107\n",
            "           6       0.66      0.37      0.48        99\n",
            "           7       0.89      0.85      0.87       102\n",
            "           8       0.86      0.92      0.89        95\n",
            "           9       0.82      0.94      0.88       113\n",
            "\n",
            "    accuracy                           0.78      1000\n",
            "   macro avg       0.80      0.78      0.77      1000\n",
            "weighted avg       0.80      0.78      0.77      1000\n",
            "\n",
            "[[ 84   0   2   2   0   0   3   0   0   0]\n",
            " [  4  84   2   1   0   0   0   0   0   0]\n",
            " [  3   0  78   0   7   0   1   0   2   0]\n",
            " [ 12   0   5  89   1   1   2   0   1   1]\n",
            " [  1   1  37   1  47   0  12   0   0   0]\n",
            " [  0   1   2   0   0  80   0   7   7  10]\n",
            " [ 30   0  21   2   6   0  37   0   2   1]\n",
            " [  0   0   0   1   0   2   0  87   1  11]\n",
            " [  4   0   2   0   1   0   1   0  87   0]\n",
            " [  0   0   0   0   0   2   0   4   1 106]]\n"
          ]
        }
      ]
    },
    {
      "cell_type": "code",
      "source": [
        "model = DecisionTreeClassifier()\n",
        "model.fit(x_train_small, y_train_small)\n",
        "decision_tree_result = model.predict(x_test_small)"
      ],
      "metadata": {
        "id": "asJv0g0wQPMK"
      },
      "execution_count": 21,
      "outputs": []
    },
    {
      "cell_type": "code",
      "source": [
        "print('Decision Tree Result\\n')\n",
        "print(classification_report(y_test_small, decision_tree_result))\n",
        "print(metrics.confusion_matrix(y_test_small, decision_tree_result))"
      ],
      "metadata": {
        "id": "La7kVa-VQTWT",
        "outputId": "755529ec-069a-4e4b-d1e7-a0c692bc347e",
        "colab": {
          "base_uri": "https://localhost:8080/"
        }
      },
      "execution_count": 28,
      "outputs": [
        {
          "output_type": "stream",
          "name": "stdout",
          "text": [
            "Decision Tree Result\n",
            "\n",
            "              precision    recall  f1-score   support\n",
            "\n",
            "           0       0.66      0.74      0.70        91\n",
            "           1       0.87      0.85      0.86        91\n",
            "           2       0.60      0.65      0.62        91\n",
            "           3       0.70      0.68      0.69       112\n",
            "           4       0.59      0.54      0.56        99\n",
            "           5       0.81      0.78      0.79       107\n",
            "           6       0.44      0.44      0.44        99\n",
            "           7       0.81      0.78      0.80       102\n",
            "           8       0.82      0.80      0.81        95\n",
            "           9       0.79      0.84      0.82       113\n",
            "\n",
            "    accuracy                           0.71      1000\n",
            "   macro avg       0.71      0.71      0.71      1000\n",
            "weighted avg       0.71      0.71      0.71      1000\n",
            "\n",
            "[[67  2  0  5  1  1 14  0  1  0]\n",
            " [ 2 77  0  9  0  0  3  0  0  0]\n",
            " [ 1  1 59  1 15  1  9  0  4  0]\n",
            " [11  7  1 76  5  1  7  0  2  2]\n",
            " [ 4  0 19 10 53  0 13  0  0  0]\n",
            " [ 0  1  0  0  0 83  2 11  2  8]\n",
            " [15  1 17  4 13  0 44  0  4  1]\n",
            " [ 0  0  0  0  0  7  0 80  1 14]\n",
            " [ 1  0  2  4  3  1  7  1 76  0]\n",
            " [ 0  0  0  0  0  8  0  7  3 95]]\n"
          ]
        }
      ]
    },
    {
      "cell_type": "markdown",
      "source": [
        "By comparing with the scores presented in the Fashion-MNIST paper, my accuracy is lower because they use 60,000 to train and 10,000 to test and I only use 3000 for training and 1000 for test. Models would be overfitted with less samples. The distribution of images will be imbalanced too. For example, Accuracy for class 6 images is really low in the classification report. From numbers of support we can see the 6th number is the lowest. Besides, algorithms in the report are repeated 5 times by shuffling the data and my f1 score is just single result from one experiment."
      ],
      "metadata": {
        "id": "Gjt9KXaXZrbL"
      }
    }
  ]
}